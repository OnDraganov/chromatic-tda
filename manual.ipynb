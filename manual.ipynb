{
 "cells": [
  {
   "cell_type": "markdown",
   "metadata": {},
   "source": [
    "# Imports and definitions"
   ]
  },
  {
   "cell_type": "code",
   "execution_count": 1,
   "metadata": {},
   "outputs": [],
   "source": [
    "import src.chromatic_tda as chro\n",
    "import random\n",
    "from matplotlib import pyplot as plt\n",
    "from matplotlib.collections import LineCollection"
   ]
  },
  {
   "cell_type": "markdown",
   "metadata": {},
   "source": [
    "# Define complex"
   ]
  },
  {
   "cell_type": "markdown",
   "metadata": {
    "heading_collapsed": true
   },
   "source": [
    "## Chromatic Delaunay complex from a bichromatic point cloud"
   ]
  },
  {
   "cell_type": "code",
   "execution_count": 2,
   "metadata": {
    "hidden": true
   },
   "outputs": [],
   "source": [
    "# Define points and labels\n",
    "n = 30 # number of points\n",
    "points = [tuple(random.random() for _ in range(2)) for _ in range(n)] # generate points in [0,1)^2\n",
    "labels = [0]*(n//2) + [1]*(n-n//2) # label points"
   ]
  },
  {
   "cell_type": "code",
   "execution_count": 3,
   "metadata": {
    "hidden": true
   },
   "outputs": [],
   "source": [
    "# Define the complex\n",
    "\n",
    "# We first create an object that computes the chromatic Delaunay complex\n",
    "# and the chromatic alpha radii.\n",
    "acplx = chro.ChromaticAlphaComplex(points, labels)\n",
    "\n",
    "# Then we get just the abstract simplicial complex with a predefined\n",
    "# subcomplex with respect to which we compute the 6-pack.\n",
    "# Here the subcomplex are the simplices with all vertices labeled 0.\n",
    "cplx = acplx.get_simplicial_complex(sub_complex='0')\n",
    "\n",
    "# Next we let the complex compute the persistence.\n",
    "# For the 6-pack, we also want to compute the relative persistence.\n",
    "cplx.compute_persistence()"
   ]
  },
  {
   "cell_type": "markdown",
   "metadata": {
    "heading_collapsed": true
   },
   "source": [
    "## Chromatic Delaunay complex from a trichromatic point cloud"
   ]
  },
  {
   "cell_type": "code",
   "execution_count": 12,
   "metadata": {
    "hidden": true
   },
   "outputs": [],
   "source": [
    "# Define points and labels\n",
    "n = 100 # number of points\n",
    "points = [tuple(random.random() for _ in range(2)) for _ in range(n)] # generate points in [0,1)^2\n",
    "labels = [0]*(n//3) + [1]*(n//3) + [2]*(n - 2*(n//3)) # label points"
   ]
  },
  {
   "cell_type": "code",
   "execution_count": 13,
   "metadata": {
    "hidden": true
   },
   "outputs": [],
   "source": [
    "# Define the complex\n",
    "\n",
    "acplx = chro.ChromaticAlphaComplex(points, labels)\n",
    "\n",
    "# We can choose various combinations for subcomplex, complex and relative.\n",
    "# For example with subcomplex='0,1,2', the subcomplex are the mono-chromatic simplices,\n",
    "# and with complex='01,02,12', the complex are the mono-chromatic + bichromatic simplices\n",
    "cplx = acplx.get_simplicial_complex(sub_complex='0,1,2', complex='01,02,12')\n",
    "cplx.compute_persistence()"
   ]
  },
  {
   "cell_type": "markdown",
   "metadata": {
    "heading_collapsed": true
   },
   "source": [
    "## Define complex by hand"
   ]
  },
  {
   "cell_type": "code",
   "execution_count": 2,
   "metadata": {
    "hidden": true
   },
   "outputs": [],
   "source": [
    "# Write a dictionary of simplices and filtration values.\n",
    "# All subsimplices of the given simplices will be added with filtration value 0.\n",
    "complex_simplices = {\n",
    "    (0,)    : 0,\n",
    "    (1,)    : 0,\n",
    "    (2,)    : 0,\n",
    "    (0,1)   : 0,\n",
    "    (0,2)   : 0,\n",
    "    (1,2)   : 1,\n",
    "    (3,)    : 2,\n",
    "    (1,3)   : 2,\n",
    "    (2,3)   : 2,\n",
    "    (1,2,3) : 3,\n",
    "    (0,1,2) : 4\n",
    "} # try swapping the radii of the last two triangles\n",
    "\n",
    "# Define subcomplex by the maximal simplices \n",
    "sub_complex_max = {(0,1), (0,2), (1,3), (2,3)}\n",
    "sub_complex = chro.SimplicialComplex(sub_complex_max).simplices() # compute the subsimplices\n",
    "\n",
    "cplx = chro.SimplicialComplex(complex_simplices)\n",
    "cplx.set_simplex_weights(complex_simplices)\n",
    "cplx.set_sub_complex(sub_complex)\n",
    "cplx.compute_persistence()"
   ]
  },
  {
   "cell_type": "code",
   "execution_count": 8,
   "metadata": {
    "hidden": true
   },
   "outputs": [
    {
     "name": "stdout",
     "output_type": "stream",
     "text": [
      "Bars:\n",
      "\n",
      "  kernel:\n",
      "    dim 1 ... (4, inf)\n",
      "\n",
      "  sub_complex:\n",
      "    dim 0 ... (0, inf)\n",
      "    dim 1 ... (2, inf)\n",
      "\n",
      "  image:\n",
      "    dim 0 ... (0, inf)\n",
      "    dim 1 ... (2, 4)\n",
      "\n",
      "  complex:\n",
      "    dim 0 ... (0, inf)\n",
      "    dim 1 ... (1, 4), (2, 3)\n",
      "\n",
      "  cokernel:\n",
      "    dim 1 ... (1, 3)\n",
      "\n",
      "  relative:\n",
      "    dim 1 ... (1, 3)\n",
      "    dim 2 ... (4, inf)\n"
     ]
    }
   ],
   "source": [
    "# Print all non-trivial bars\n",
    "print(\"Bars:\")\n",
    "for grp in ['kernel','sub_complex','image','complex','cokernel','relative']:\n",
    "    print()\n",
    "    print(f\"  {grp}:\")\n",
    "    bars_all = cplx.bars_dict(grp)\n",
    "    for dim, bars  in sorted(bars_all.items()):\n",
    "        print(f\"    dim {dim} ... \", end=\"\")\n",
    "        print(\", \".join(str(bar) for bar in sorted(bars)))"
   ]
  },
  {
   "cell_type": "markdown",
   "metadata": {
    "heading_collapsed": true
   },
   "source": [
    "# Plot diagrams"
   ]
  },
  {
   "cell_type": "code",
   "execution_count": null,
   "metadata": {
    "hidden": true
   },
   "outputs": [],
   "source": [
    "# Plot the full six-pack of the complex\n",
    "chro.plot_six_pack(cplx)\n",
    "plt.show()"
   ]
  },
  {
   "cell_type": "code",
   "execution_count": null,
   "metadata": {
    "hidden": true
   },
   "outputs": [],
   "source": [
    "# Get the six-pack first, and then plot it (same result as above)\n",
    "six_pack = cplx.bars_six_pack()\n",
    "chro.plot_six_pack(six_pack)\n",
    "plt.show()"
   ]
  },
  {
   "cell_type": "code",
   "execution_count": null,
   "metadata": {
    "hidden": true
   },
   "outputs": [],
   "source": [
    "# Only plot one diagram\n",
    "fig, ax = chro.plot_persistence_diagram(six_pack['kernel'])\n",
    "ax.set_title('kernel', fontsize=15)\n",
    "plt.show()"
   ]
  },
  {
   "cell_type": "markdown",
   "metadata": {
    "heading_collapsed": true
   },
   "source": [
    "# ."
   ]
  },
  {
   "cell_type": "code",
   "execution_count": null,
   "metadata": {
    "hidden": true
   },
   "outputs": [],
   "source": []
  }
 ],
 "metadata": {
  "kernelspec": {
   "display_name": "pyenv 3.10",
   "language": "python",
   "name": "3.10"
  },
  "language_info": {
   "codemirror_mode": {
    "name": "ipython",
    "version": 3
   },
   "file_extension": ".py",
   "mimetype": "text/x-python",
   "name": "python",
   "nbconvert_exporter": "python",
   "pygments_lexer": "ipython3",
   "version": "3.10.12"
  },
  "varInspector": {
   "cols": {
    "lenName": 16,
    "lenType": 16,
    "lenVar": 40
   },
   "kernels_config": {
    "python": {
     "delete_cmd_postfix": "",
     "delete_cmd_prefix": "del ",
     "library": "var_list.py",
     "varRefreshCmd": "print(var_dic_list())"
    },
    "r": {
     "delete_cmd_postfix": ") ",
     "delete_cmd_prefix": "rm(",
     "library": "var_list.r",
     "varRefreshCmd": "cat(var_dic_list()) "
    }
   },
   "types_to_exclude": [
    "module",
    "function",
    "builtin_function_or_method",
    "instance",
    "_Feature"
   ],
   "window_display": false
  }
 },
 "nbformat": 4,
 "nbformat_minor": 4
}
