{
 "cells": [
  {
   "cell_type": "markdown",
   "metadata": {},
   "source": [
    "# Imports and definitions"
   ]
  },
  {
   "cell_type": "code",
   "execution_count": 1,
   "metadata": {},
   "outputs": [
    {
     "name": "stdout",
     "output_type": "stream",
     "text": [
      "Loaded chromatic_tda version 1.0.4a1\n"
     ]
    }
   ],
   "source": [
    "import chromatic_tda as chro\n",
    "import random\n",
    "from matplotlib import pyplot as plt\n",
    "from matplotlib.collections import LineCollection\n",
    "\n",
    "print(f'Loaded chromatic_tda version {chro.__version__}')"
   ]
  },
  {
   "cell_type": "markdown",
   "metadata": {},
   "source": [
    "# Minimal example"
   ]
  },
  {
   "cell_type": "markdown",
   "metadata": {},
   "source": [
    "## Load data"
   ]
  },
  {
   "cell_type": "code",
   "execution_count": null,
   "metadata": {},
   "outputs": [],
   "source": [
    "# Random chromatic point cloud\n",
    "points = [[random.random(), random.random()] for _ in range(200)]\n",
    "labels = [int(2*random.random()) for _ in points]"
   ]
  },
  {
   "cell_type": "code",
   "execution_count": 2,
   "metadata": {},
   "outputs": [],
   "source": [
    "# Load example chromatic point cloud\n",
    "import json\n",
    "with open('examples/chromatic_point_clouds/three_circles_2-colors_background.json','r') as file:\n",
    "    data = json.load(file)\n",
    "points, labels = data['points'], data['labels']"
   ]
  },
  {
   "cell_type": "code",
   "execution_count": null,
   "metadata": {},
   "outputs": [],
   "source": [
    "# Plot data \n",
    "plt.figure(figsize=(6,6))\n",
    "for label in (0,1):\n",
    "    plt.plot(*zip(*[pt for pt, lab in zip(points, labels) if lab==label]),\n",
    "             linestyle='None', alpha=.8,\n",
    "             marker={0:'o', 1:'s'}[label], color={0:'tab:blue', 1:'tab:orange'}[label])\n",
    "plt.gca().set_aspect('equal')\n",
    "plt.show()"
   ]
  },
  {
   "cell_type": "markdown",
   "metadata": {
    "heading_collapsed": true
   },
   "source": [
    "## From chromatic point cloud to a six-pack of persistent diagrams"
   ]
  },
  {
   "cell_type": "code",
   "execution_count": null,
   "metadata": {
    "hidden": true
   },
   "outputs": [],
   "source": [
    "# Compute the chromatic Delaunay complex and extract the subcomplex-complex pair\n",
    "alpha_complex = chro.ChromaticAlphaComplex(points, labels)\n",
    "simplicial_complex = alpha_complex.get_simplicial_complex(sub_complex='0') # \"0-labeled into all\"\n",
    "\n",
    "# Compute persistence, and show the six pack\n",
    "simplicial_complex.compute_persistence() # optional, would be called automatically below\n",
    "chro.plot_six_pack(simplicial_complex)\n",
    "plt.show()"
   ]
  },
  {
   "cell_type": "markdown",
   "metadata": {},
   "source": [
    "# More detailed example"
   ]
  },
  {
   "cell_type": "markdown",
   "metadata": {},
   "source": [
    "Load chromatic point cloud as in the minimal example above. Points should be a list of pairs of numbers (currently only 2D point-clouds are allowed, adding 3D support is planed). Labels should be a list of hashable elements (integers, strings, ...) of the same length as the points. Currently there can be two or three different kind of labels."
   ]
  },
  {
   "cell_type": "markdown",
   "metadata": {},
   "source": [
    "We first create an instance of `ChromaticAlphaComplex` that computes the chromatic Delaunay complex and the chromatic alpha radii. Below we show various things to query from this object."
   ]
  },
  {
   "cell_type": "code",
   "execution_count": 3,
   "metadata": {},
   "outputs": [],
   "source": [
    "alpha_complex = chro.ChromaticAlphaComplex(points, labels)"
   ]
  },
  {
   "cell_type": "code",
   "execution_count": 4,
   "metadata": {},
   "outputs": [],
   "source": [
    "# Get all simplices\n",
    "simplices = alpha_complex.simplices()\n",
    "\n",
    "# We also get one simplex to use below\n",
    "simplex = sorted(simplices, key= lambda s: len(s))[-1]"
   ]
  },
  {
   "cell_type": "code",
   "execution_count": 5,
   "metadata": {},
   "outputs": [
    {
     "data": {
      "text/plain": [
       "{0, 1}"
      ]
     },
     "execution_count": 5,
     "metadata": {},
     "output_type": "execute_result"
    }
   ],
   "source": [
    "# Get the labels of a given simplex\n",
    "alpha_complex.simplex_labels(simplex)"
   ]
  },
  {
   "cell_type": "code",
   "execution_count": 6,
   "metadata": {},
   "outputs": [
    {
     "data": {
      "text/plain": [
       "[array([-0.941154,  0.676219]),\n",
       " array([-0.938805,  0.642445]),\n",
       " array([-0.952432,  0.568546]),\n",
       " array([-0.987896,  0.563511])]"
      ]
     },
     "execution_count": 6,
     "metadata": {},
     "output_type": "execute_result"
    }
   ],
   "source": [
    "# Get the points spanning the given simplex\n",
    "alpha_complex.simplex_points(simplex)"
   ]
  },
  {
   "cell_type": "code",
   "execution_count": 7,
   "metadata": {},
   "outputs": [
    {
     "data": {
      "text/plain": [
       "0.21727279527283216"
      ]
     },
     "execution_count": 7,
     "metadata": {},
     "output_type": "execute_result"
    }
   ],
   "source": [
    "# Get the radius value of the given simplex\n",
    "alpha_complex.weight_function(simplex)"
   ]
  },
  {
   "cell_type": "code",
   "execution_count": null,
   "metadata": {},
   "outputs": [],
   "source": [
    "# If no argument is given to `weight_function`, it returns a dictionary of all weights.\n",
    "alpha_complex.weight_function()"
   ]
  },
  {
   "cell_type": "markdown",
   "metadata": {},
   "source": [
    "From `ChromaticAlphaComplex` we get a `SimplicialComplex`, part of which is also a sub-complex. The pair is what the persistent homology is computed for. What complex and sub-complex is returned is controled by the parameters `complex`, `sub_complex`, and `relative` – see the docstring of the `get_simplicial_complex` method for details."
   ]
  },
  {
   "cell_type": "code",
   "execution_count": 9,
   "metadata": {},
   "outputs": [],
   "source": [
    "simplicial_complex = alpha_complex.get_simplicial_complex(sub_complex='0')"
   ]
  },
  {
   "cell_type": "markdown",
   "metadata": {},
   "source": [
    "`SimplicialComplex` does not store the points and labels anymore, only the simplicial pair as abstract simplicial complexes. It also has the `weight_function` that behaves as in the `ChromaticAlphaComplex`. You can get the set of all simplices with `.simplices()`, and the set of sub-complex simplices with `.simplices_sub_complex()`. You can query the membership in the complex by `simplex in simplicial_complex`, and membership in the sub-complex by `simplicial_complex.is_in_sub_complex(simplex)`."
   ]
  },
  {
   "cell_type": "markdown",
   "metadata": {},
   "source": [
    "To perform the persistent homology computations, call `simplicial_complex.compute_persistence()`. If not called manually, it is called automatically the first time the user extracts bars. It can be useful to call it manually to control where the bottleneck computation is performed."
   ]
  },
  {
   "cell_type": "code",
   "execution_count": 17,
   "metadata": {},
   "outputs": [],
   "source": [
    "simplicial_complex.compute_persistence()"
   ]
  },
  {
   "cell_type": "markdown",
   "metadata": {},
   "source": [
    "There are two ways to get bars: with `bars()` method and with `bars_six_pack()` method. See the respective docstrings for details."
   ]
  },
  {
   "cell_type": "code",
   "execution_count": 22,
   "metadata": {},
   "outputs": [
    {
     "data": {
      "text/plain": [
       "['kernel', 'sub_complex', 'image', 'complex', 'cokernel', 'relative']"
      ]
     },
     "execution_count": 22,
     "metadata": {},
     "output_type": "execute_result"
    }
   ],
   "source": [
    "# You can get the list of the different groups for which persistence homology is computed like this:\n",
    "simplicial_complex.GROUPS"
   ]
  },
  {
   "cell_type": "code",
   "execution_count": null,
   "metadata": {},
   "outputs": [],
   "source": [
    "simplicial_complex.bars('kernel')"
   ]
  },
  {
   "cell_type": "code",
   "execution_count": null,
   "metadata": {},
   "outputs": [],
   "source": [
    "simplicial_complex.bars_six_pack()"
   ]
  },
  {
   "cell_type": "markdown",
   "metadata": {},
   "source": [
    "# Three colors"
   ]
  },
  {
   "cell_type": "markdown",
   "metadata": {},
   "source": [
    "Everything works the same for three colors, there is just more options for the different (sub-complexes, complex) pairs to get."
   ]
  },
  {
   "cell_type": "code",
   "execution_count": 27,
   "metadata": {},
   "outputs": [],
   "source": [
    "# Random chromatic point cloud\n",
    "points = [[random.random(), random.random()] for _ in range(200)]\n",
    "labels = [int(3*random.random()) for _ in points]"
   ]
  },
  {
   "cell_type": "code",
   "execution_count": 29,
   "metadata": {},
   "outputs": [],
   "source": [
    "# Load example chromatic point cloud\n",
    "import json\n",
    "with open('examples/chromatic_point_clouds/three_circles_3-colors.json','r') as file:\n",
    "    data = json.load(file)\n",
    "points, labels = data['points'], data['labels']"
   ]
  },
  {
   "cell_type": "code",
   "execution_count": 30,
   "metadata": {},
   "outputs": [],
   "source": [
    "alpha_complex = chro.ChromaticAlphaComplex(points, labels)\n",
    "simplicial_complex = alpha_complex.get_simplicial_complex(sub_complex='0,1,2', complex='01,02,12')\n",
    "simplicial_complex.compute_persistence()"
   ]
  },
  {
   "cell_type": "code",
   "execution_count": null,
   "metadata": {},
   "outputs": [],
   "source": [
    "chro.plot_six_pack(simplicial_complex)\n",
    "plt.show()"
   ]
  },
  {
   "cell_type": "markdown",
   "metadata": {},
   "source": [
    "# Define your own simplicial complex"
   ]
  },
  {
   "cell_type": "markdown",
   "metadata": {},
   "source": [
    "You can also define your own abstract simplicial complex with an arbitrary weight function and subcomplex."
   ]
  },
  {
   "cell_type": "code",
   "execution_count": 2,
   "metadata": {},
   "outputs": [],
   "source": [
    "# Write a dictionary of simplices and filtration values.\n",
    "# All subsimplices of the given simplices will be added with filtration value 0.\n",
    "complex_simplices = {\n",
    "    (0,)    : 0,\n",
    "    (1,)    : 0,\n",
    "    (2,)    : 0,\n",
    "    (0,1)   : 0,\n",
    "    (0,2)   : 0,\n",
    "    (1,2)   : 1,\n",
    "    (3,)    : 2,\n",
    "    (1,3)   : 2,\n",
    "    (2,3)   : 2,\n",
    "    (1,2,3) : 3,\n",
    "    (0,1,2) : 4\n",
    "}\n",
    "\n",
    "# Define subcomplex by the maximal simplices \n",
    "sub_complex_max = {(0,1), (0,2), (1,3), (2,3)}\n",
    "sub_complex = chro.SimplicialComplex(sub_complex_max).simplices() # compute the subsimplices\n",
    "\n",
    "cplx = chro.SimplicialComplex(complex_simplices)\n",
    "cplx.set_simplex_weights(complex_simplices)\n",
    "cplx.set_sub_complex(sub_complex)\n",
    "cplx.compute_persistence()"
   ]
  },
  {
   "cell_type": "code",
   "execution_count": 8,
   "metadata": {},
   "outputs": [
    {
     "name": "stdout",
     "output_type": "stream",
     "text": [
      "Bars:\n",
      "\n",
      "  kernel:\n",
      "    dim 1 ... (4, inf)\n",
      "\n",
      "  sub_complex:\n",
      "    dim 0 ... (0, inf)\n",
      "    dim 1 ... (2, inf)\n",
      "\n",
      "  image:\n",
      "    dim 0 ... (0, inf)\n",
      "    dim 1 ... (2, 4)\n",
      "\n",
      "  complex:\n",
      "    dim 0 ... (0, inf)\n",
      "    dim 1 ... (1, 4), (2, 3)\n",
      "\n",
      "  cokernel:\n",
      "    dim 1 ... (1, 3)\n",
      "\n",
      "  relative:\n",
      "    dim 1 ... (1, 3)\n",
      "    dim 2 ... (4, inf)\n"
     ]
    }
   ],
   "source": [
    "# Print all non-trivial bars\n",
    "print(\"Bars:\")\n",
    "for grp in ['kernel','sub_complex','image','complex','cokernel','relative']:\n",
    "    print()\n",
    "    print(f\"  {grp}:\")\n",
    "    bars_all = cplx.bars_dict(grp)\n",
    "    for dim, bars  in sorted(bars_all.items()):\n",
    "        print(f\"    dim {dim} ... \", end=\"\")\n",
    "        print(\", \".join(str(bar) for bar in sorted(bars)))"
   ]
  },
  {
   "cell_type": "markdown",
   "metadata": {},
   "source": [
    "# Plot diagrams"
   ]
  },
  {
   "cell_type": "code",
   "execution_count": null,
   "metadata": {},
   "outputs": [],
   "source": [
    "# Plot the full six-pack of the complex\n",
    "chro.plot_six_pack(cplx)\n",
    "plt.show()"
   ]
  },
  {
   "cell_type": "code",
   "execution_count": null,
   "metadata": {},
   "outputs": [],
   "source": [
    "# Get the six-pack first, and then plot it (same result as above)\n",
    "six_pack = cplx.bars_six_pack()\n",
    "chro.plot_six_pack(six_pack)\n",
    "plt.show()"
   ]
  },
  {
   "cell_type": "code",
   "execution_count": null,
   "metadata": {},
   "outputs": [],
   "source": [
    "# Only plot one diagram\n",
    "fig, ax = chro.plot_persistence_diagram(six_pack['kernel'])\n",
    "ax.set_title('kernel', fontsize=15)\n",
    "plt.show()"
   ]
  },
  {
   "cell_type": "markdown",
   "metadata": {
    "heading_collapsed": true
   },
   "source": [
    "# ."
   ]
  },
  {
   "cell_type": "code",
   "execution_count": null,
   "metadata": {
    "hidden": true
   },
   "outputs": [],
   "source": []
  }
 ],
 "metadata": {
  "kernelspec": {
   "display_name": "pyenv 3.10",
   "language": "python",
   "name": "3.10"
  },
  "language_info": {
   "codemirror_mode": {
    "name": "ipython",
    "version": 3
   },
   "file_extension": ".py",
   "mimetype": "text/x-python",
   "name": "python",
   "nbconvert_exporter": "python",
   "pygments_lexer": "ipython3",
   "version": "3.10.12"
  },
  "varInspector": {
   "cols": {
    "lenName": 16,
    "lenType": 16,
    "lenVar": 40
   },
   "kernels_config": {
    "python": {
     "delete_cmd_postfix": "",
     "delete_cmd_prefix": "del ",
     "library": "var_list.py",
     "varRefreshCmd": "print(var_dic_list())"
    },
    "r": {
     "delete_cmd_postfix": ") ",
     "delete_cmd_prefix": "rm(",
     "library": "var_list.r",
     "varRefreshCmd": "cat(var_dic_list()) "
    }
   },
   "types_to_exclude": [
    "module",
    "function",
    "builtin_function_or_method",
    "instance",
    "_Feature"
   ],
   "window_display": false
  }
 },
 "nbformat": 4,
 "nbformat_minor": 4
}
